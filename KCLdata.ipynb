{
 "cells": [
  {
   "cell_type": "code",
   "execution_count": 23,
   "metadata": {},
   "outputs": [],
   "source": [
    "import numpy as np\n",
    "import pandas as pd\n",
    "import random\n",
    "import torch"
   ]
  },
  {
   "cell_type": "code",
   "execution_count": 2,
   "metadata": {},
   "outputs": [
    {
     "name": "stdout",
     "output_type": "stream",
     "text": [
      "(42440729, 5)\n",
      "(169128, 5)\n"
     ]
    }
   ],
   "source": [
    "dataDir = '/usr/sci/cibc/Maprodxn/ClinicalECGData/AllClinicalECGs/'\n",
    "\n",
    "timeCutoff = 900 #seconds\n",
    "lowerCutoff = 0 #seconds\n",
    "\n",
    "kclCohort = np.load(dataDir+'kclCohort_v1.npy',allow_pickle=True)\n",
    "data_types = {\n",
    "    'DeltaTime': float,   \n",
    "    'KCLVal': float,    \n",
    "    'ECGFile': str,     \n",
    "    'PatId': int,       \n",
    "    'KCLTest': str      \n",
    "}\n",
    "kclCohort = pd.DataFrame(kclCohort,columns=['DeltaTime','KCLVal','ECGFile','PatId','KCLTest']) \n",
    "for key in data_types.keys():\n",
    "\tkclCohort[key] = kclCohort[key].astype(data_types[key])\n",
    "\n",
    "print(kclCohort.shape)\n",
    "kclCohort = kclCohort[kclCohort['DeltaTime']<=timeCutoff]\n",
    "kclCohort = kclCohort[kclCohort['DeltaTime']>lowerCutoff]\n",
    "print(kclCohort.shape)\n"
   ]
  },
  {
   "cell_type": "code",
   "execution_count": 3,
   "metadata": {},
   "outputs": [
    {
     "name": "stdout",
     "output_type": "stream",
     "text": [
      "(168660, 5)\n"
     ]
    }
   ],
   "source": [
    "kclCohort = kclCohort.dropna(subset=['DeltaTime']) \n",
    "kclCohort = kclCohort.dropna(subset=['KCLVal']) \n",
    "print(kclCohort.shape)\n"
   ]
  },
  {
   "cell_type": "code",
   "execution_count": 4,
   "metadata": {},
   "outputs": [
    {
     "name": "stdout",
     "output_type": "stream",
     "text": [
      "(164608, 5)\n"
     ]
    }
   ],
   "source": [
    "ix = kclCohort.groupby('ECGFile')['DeltaTime'].idxmin()\n",
    "kclCohort = kclCohort.loc[ix]\n",
    "print(kclCohort.shape)\n"
   ]
  },
  {
   "cell_type": "code",
   "execution_count": 5,
   "metadata": {},
   "outputs": [
    {
     "data": {
      "text/plain": [
       "(164608, 106754)"
      ]
     },
     "execution_count": 5,
     "metadata": {},
     "output_type": "execute_result"
    }
   ],
   "source": [
    "numECGs = len(kclCohort)\n",
    "numPatients = len(np.unique(kclCohort['PatId']))\n",
    "numECGs, numPatients"
   ]
  },
  {
   "cell_type": "code",
   "execution_count": 6,
   "metadata": {},
   "outputs": [
    {
     "name": "stdout",
     "output_type": "stream",
     "text": [
      "setting up train/val split\n",
      "(148157, 5) (16451, 5)\n"
     ]
    }
   ],
   "source": [
    "print('setting up train/val split')\n",
    "numTest = int(0.1 * numPatients)\n",
    "numTrain = numPatients - numTest\n",
    "assert (numPatients == numTrain + numTest), \"Train/Test spilt incorrectly\"\n",
    "RandomSeedSoAlswaysGetSameDatabseSplit = 1\n",
    "patientIds = list(np.unique(kclCohort['PatId']))\n",
    "random.Random(RandomSeedSoAlswaysGetSameDatabseSplit).shuffle(patientIds)\n",
    "\n",
    "trainPatientInds = patientIds[:numTrain]\n",
    "testPatientInds = patientIds[numTrain:numTest + numTrain]\n",
    "trainECGs = kclCohort[kclCohort['PatId'].isin(trainPatientInds)]\n",
    "testECGs = kclCohort[kclCohort['PatId'].isin(testPatientInds)]\n",
    "print(trainECGs.shape, testECGs.shape)"
   ]
  },
  {
   "cell_type": "code",
   "execution_count": 8,
   "metadata": {},
   "outputs": [
    {
     "name": "stdout",
     "output_type": "stream",
     "text": [
      "(70598, 5) (6586, 5)\n",
      "(7835, 5) (712, 5)\n"
     ]
    }
   ],
   "source": [
    "kclTaskParams = dict(highThresh = 5, lowThresh=4)\n",
    "trainECGs_normal = trainECGs[(trainECGs['KCLVal']>=kclTaskParams['lowThresh']) & (trainECGs['KCLVal']<=kclTaskParams['highThresh'])]\n",
    "trainECGs_abnormal = trainECGs[ (trainECGs['KCLVal']>kclTaskParams['highThresh'])]\n",
    "print( trainECGs_normal.shape, trainECGs_abnormal.shape)\n",
    "\n",
    "testECGs_normal = testECGs[(testECGs['KCLVal']>=kclTaskParams['lowThresh']) & (testECGs['KCLVal']<=kclTaskParams['highThresh'])]\n",
    "testECGs_abnormal = testECGs[ (testECGs['KCLVal']>kclTaskParams['highThresh'])]\n",
    "print(testECGs_normal.shape, testECGs_abnormal.shape)"
   ]
  },
  {
   "cell_type": "code",
   "execution_count": 9,
   "metadata": {},
   "outputs": [],
   "source": [
    "import DataTools as DD\n",
    "trainECG_normal_dataset = DD.ECG_KCL_Datasetloader(\n",
    "    baseDir= dataDir + 'pythonData/',\n",
    "    ecgs=trainECGs_normal['ECGFile'].tolist(),\n",
    "    kclVals=trainECGs_normal['KCLVal'].tolist(),\n",
    "    normalize=False,\n",
    "    allowMismatchTime=False,\n",
    "    randomCrop=True,\n",
    ")\n",
    "\n",
    "trainECG_abnormal_dataset = DD.ECG_KCL_Datasetloader(\n",
    "    baseDir= dataDir + 'pythonData/',\n",
    "    ecgs=trainECGs_abnormal['ECGFile'].tolist(),\n",
    "    kclVals=trainECGs_abnormal['KCLVal'].tolist(),\n",
    "    normalize=False,\n",
    "    allowMismatchTime=False,\n",
    "    randomCrop=True,\n",
    "    \n",
    ")\n",
    "\n",
    "\n",
    "testECG_normal_dataset = DD.ECG_KCL_Datasetloader(\n",
    "    baseDir= dataDir + 'pythonData/',\n",
    "    ecgs=testECGs_normal['ECGFile'].tolist(),\n",
    "    kclVals=testECGs_normal['KCLVal'].tolist(),\n",
    "    normalize=False,\n",
    "    allowMismatchTime=False,\n",
    "    randomCrop=True,\n",
    ")\n",
    "\n",
    "testECG_abnormal_dataset = DD.ECG_KCL_Datasetloader(\n",
    "    baseDir= dataDir + 'pythonData/',\n",
    "    ecgs=testECGs_abnormal['ECGFile'].tolist(),\n",
    "    kclVals=testECGs_abnormal['KCLVal'].tolist(),\n",
    "    normalize=False,\n",
    "    allowMismatchTime=False,\n",
    "    randomCrop=True,\n",
    "    \n",
    ")"
   ]
  },
  {
   "cell_type": "code",
   "execution_count": 10,
   "metadata": {},
   "outputs": [
    {
     "name": "stdout",
     "output_type": "stream",
     "text": [
      "70598 6586 7835 712\n"
     ]
    }
   ],
   "source": [
    "ecg,kcl = trainECG_normal_dataset[0]\n",
    "ecg, kcl = trainECG_abnormal_dataset[0]\n",
    "ecg, kcl = testECG_normal_dataset[0]\n",
    "ecg, kcl = testECG_abnormal_dataset[0]\n",
    "print(len(trainECG_normal_dataset), len(trainECG_abnormal_dataset), len(testECG_normal_dataset), len(testECG_abnormal_dataset))"
   ]
  },
  {
   "cell_type": "code",
   "execution_count": 24,
   "metadata": {},
   "outputs": [],
   "source": [
    "# Create dataloader of the dataset\n",
    "trainECG_abnormal_dataloader = torch.utils.data.DataLoader(trainECG_abnormal_dataset, batch_size=32, shuffle=True)"
   ]
  },
  {
   "cell_type": "code",
   "execution_count": 36,
   "metadata": {},
   "outputs": [],
   "source": [
    "ecg, kcls = next(iter(trainECG_abnormal_dataloader))"
   ]
  },
  {
   "cell_type": "code",
   "execution_count": null,
   "metadata": {},
   "outputs": [
    {
     "data": {
      "text/plain": [
       "tensor([5.7000, 5.8000, 5.3000, 5.7000, 7.8000, 5.3000, 5.5000, 6.8000, 5.9000,\n",
       "        6.6000, 5.2000, 6.4000, 5.1000, 6.0000, 5.1000, 5.6000, 6.1000, 5.2000,\n",
       "        5.5000, 5.5000, 6.3000, 5.2000, 7.8000, 5.2000, 5.9000, 5.5000, 7.2000,\n",
       "        6.5000, 5.2000, 6.8000, 5.8000, 5.5000])"
      ]
     },
     "execution_count": 39,
     "metadata": {},
     "output_type": "execute_result"
    }
   ],
   "source": [
    "# get max value's index of kcls\n",
    "torch.argmax(kcls)\n"
   ]
  },
  {
   "cell_type": "code",
   "execution_count": null,
   "metadata": {},
   "outputs": [
    {
     "name": "stdout",
     "output_type": "stream",
     "text": [
      "1,2,3\n"
     ]
    }
   ],
   "source": [
    "import subprocess\n",
    "import os\n",
    "import time\n",
    "from email.mime.multipart import MIMEMultipart\n",
    "from email.mime.text import MIMEText\n",
    "import smtplib\n",
    "\n",
    "def check_gpu_availability(min_free_memory_mb=35000):\n",
    "    result = subprocess.run(['nvidia-smi', '--query-gpu=memory.free', '--format=csv,noheader,nounits'], capture_output= True, text=True)\n",
    "    free_memory_list = [int(x) for x in result.stdout.strip().split('\\n')]\n",
    "\n",
    "    free_gpus = []\n",
    "    for idx, free_memory in enumerate(free_memory_list):\n",
    "        if free_memory >= min_free_memory_mb:\n",
    "            free_gpus.append(idx)\n",
    "            \n",
    "    return free_gpus\n",
    "\n",
    "def run_process_on_gpu(gpu_indices, process_command):\n",
    "    \n",
    "    if(len(gpu_indices) == 0):\n",
    "        print(\"No available GPUs found.\")\n",
    "        return\n",
    "    \n",
    "    devices = \"\"\n",
    "    for idx in gpu_indices:\n",
    "        devices += f\"{idx},\"\n",
    "    devices = devices[:-1]\n",
    "    \n",
    "    os.environ[\"CUDA_VISIBLE_DEVICES\"] = devices\n",
    "    \n",
    "    process = subprocess.Popen(process_command, shell=True)\n",
    "    \n",
    "    #SENDING AN EMAIL\n",
    "    smtp_server = 'smtp.gmail.com'\n",
    "    smtp_port = 587\n",
    "    username = 'deekshithsender@gmail.com'\n",
    "    password = 'bnvf hzzb hbxw vgki'\n",
    "    from_addr = 'deekshithsender@gmail.com'\n",
    "    to_addr = 'deekshithreceiver@gmail.com'\n",
    "\n",
    "    # Email content\n",
    "    subject = 'System Information'\n",
    "    body = f'Process started on GPU(s): {devices} @ {time.ctime()}'\n",
    "    \n",
    "    html_body = f\"<pre>{body}</pre>\"\n",
    "    msg.attach(MIMEText(html_body, 'html'))\n",
    "    \n",
    "    msg = MIMEMultipart()\n",
    "    msg['Subject'] = subject\n",
    "    msg['From'] = from_addr\n",
    "    msg['To'] = to_addr\n",
    "    \n",
    "    with smtplib.SMTP(smtp_server, smtp_port) as server:\n",
    "        server.starttls()\n",
    "        server.login(username, password)\n",
    "        server.sendmail(from_addr, to_addr, msg.as_string())\n",
    "        print(f\"Sent an EMAIL at {time.strftime('%Y-%m-%d %H:%M:%S', time.localtime())}\")\n",
    "    \n",
    "    process.wait()\n",
    "    print(f\"Porcess finished on GPU(s): {devices}\")\n",
    "    \n",
    "def main():\n",
    "    \n",
    "    process_command = \"python kclExplainabiity.py\"\n",
    "    \n",
    "    while True:\n",
    "        gpu_indices = check_gpu_availability(min_free_memory_mb=37000)\n",
    "        \n",
    "        if len(gpu_indices) > 0:\n",
    "            run_process_on_gpu(gpu_indices, process_command)\n",
    "            break\n",
    "        else:\n",
    "            print(\"Waiting for available GPU...\")\n",
    "            time.sleep(20)\n",
    "\n"
   ]
  }
 ],
 "metadata": {
  "kernelspec": {
   "display_name": ".venv",
   "language": "python",
   "name": "python3"
  },
  "language_info": {
   "codemirror_mode": {
    "name": "ipython",
    "version": 3
   },
   "file_extension": ".py",
   "mimetype": "text/x-python",
   "name": "python",
   "nbconvert_exporter": "python",
   "pygments_lexer": "ipython3",
   "version": "3.12.3"
  }
 },
 "nbformat": 4,
 "nbformat_minor": 2
}
